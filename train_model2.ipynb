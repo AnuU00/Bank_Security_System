{
 "cells": [
  {
   "cell_type": "code",
   "execution_count": 20,
   "id": "32bc8320-04c9-41a7-9c14-b99a11e9c42f",
   "metadata": {},
   "outputs": [
    {
     "name": "stdout",
     "output_type": "stream",
     "text": [
      "Found 8138 images belonging to 2 classes.\n",
      "Found 2031 images belonging to 2 classes.\n"
     ]
    }
   ],
   "source": [
    "import os\n",
    "import tensorflow as tf\n",
    "from tensorflow.keras.preprocessing.image import ImageDataGenerator\n",
    "from tensorflow.keras.applications import MobileNetV3Large\n",
    "from tensorflow.keras.layers import Dense, GlobalAveragePooling2D\n",
    "from tensorflow.keras.models import Model\n",
    "from tensorflow.keras.optimizers import Adam\n",
    "from kerastuner.tuners import RandomSearch\n",
    "\n",
    "# Define paths\n",
    "train_dir = 'F:\\\\3rd_yr_project\\\\FER_transfer_learning\\\\FER_fear_dataset\\\\train'\n",
    "test_dir = 'F:\\\\3rd_yr_project\\\\FER_transfer_learning\\\\FER_fear_dataset\\\\test'\n",
    "\n",
    "# Preprocessing function to match MobileNetV3Large input requirements\n",
    "def preprocess_input_fn(img):\n",
    "    img = tf.image.resize(img, (224, 224))  # Resize to 224x224\n",
    "    img = tf.keras.applications.mobilenet_v3.preprocess_input(img)  # MobileNetV3 preprocessing\n",
    "    return img\n",
    "\n",
    "# Data generators with data augmentation for training\n",
    "train_datagen = ImageDataGenerator(\n",
    "    preprocessing_function=preprocess_input_fn,\n",
    "    rotation_range=20,\n",
    "    width_shift_range=0.2,\n",
    "    height_shift_range=0.2,\n",
    "    shear_range=0.2,\n",
    "    zoom_range=0.2,\n",
    "    horizontal_flip=True,\n",
    "    fill_mode='nearest'\n",
    ")\n",
    "\n",
    "test_datagen = ImageDataGenerator(preprocessing_function=preprocess_input_fn)\n",
    "\n",
    "train_generator = train_datagen.flow_from_directory(\n",
    "    train_dir,\n",
    "    target_size=(224, 224),\n",
    "    batch_size=32,\n",
    "    class_mode='binary'\n",
    ")\n",
    "\n",
    "test_generator = test_datagen.flow_from_directory(\n",
    "    test_dir,\n",
    "    target_size=(224, 224),\n",
    "    batch_size=32,\n",
    "    class_mode='binary'\n",
    ")\n",
    "\n",
    "# Function to build the model\n",
    "def build_model(hp):\n",
    "    base_model = MobileNetV3Large(weights='imagenet', include_top=False, input_shape=(224, 224, 3))\n",
    "    base_model.trainable = False  # Freeze the base model\n",
    "\n",
    "    x = base_model.output\n",
    "    x = GlobalAveragePooling2D()(x)\n",
    "    x = Dense(hp.Int('units', min_value=32, max_value=512, step=32), activation='relu')(x)\n",
    "    x = Dense(1, activation='sigmoid')(x)\n",
    "\n",
    "    model = Model(inputs=base_model.input, outputs=x)\n",
    "\n",
    "    model.compile(optimizer=Adam(hp.Choice('learning_rate', [1e-2, 1e-3, 1e-4])),\n",
    "                  loss='binary_crossentropy',\n",
    "                  metrics=['accuracy'])\n",
    "\n",
    "    return model"
   ]
  },
  {
   "cell_type": "code",
   "execution_count": 22,
   "id": "35ea8207-09a1-4925-94f1-8440de4d0adf",
   "metadata": {},
   "outputs": [
    {
     "name": "stdout",
     "output_type": "stream",
     "text": [
      "Trial 10 Complete [00h 39m 51s]\n",
      "val_accuracy: 0.6312161684036255\n",
      "\n",
      "Best val_accuracy So Far: 0.6312161684036255\n",
      "Total elapsed time: 07h 09m 48s\n"
     ]
    }
   ],
   "source": [
    "# Hyperparameter tuning using Keras Tuner\n",
    "tuner = RandomSearch(\n",
    "    build_model,\n",
    "    objective='val_accuracy',\n",
    "    max_trials=10,\n",
    "    executions_per_trial=1,\n",
    "    directory='tuner_logs',\n",
    "    project_name='mobilenetv3_fear_detection'\n",
    ")\n",
    "\n",
    "\n",
    "# Perform hyperparameter search\n",
    "tuner.search(train_generator, epochs=10, validation_data=test_generator)"
   ]
  },
  {
   "cell_type": "code",
   "execution_count": 24,
   "id": "8538f9d6-1a8b-482d-a9ad-f2388f632960",
   "metadata": {},
   "outputs": [],
   "source": [
    "# Get the optimal hyperparameters\n",
    "best_hps = tuner.get_best_hyperparameters(num_trials=1)[0]\n",
    "\n",
    "# Build the model with the optimal hyperparameters\n",
    "model = build_model(best_hps)"
   ]
  },
  {
   "cell_type": "code",
   "execution_count": 28,
   "id": "273cf4ae-58ea-4a9a-91dd-875734b8bf4a",
   "metadata": {},
   "outputs": [
    {
     "name": "stdout",
     "output_type": "stream",
     "text": [
      "Epoch 1/50\n",
      "255/255 [==============================] - 320s 1s/step - loss: 0.5874 - accuracy: 0.6763 - val_loss: 0.6506 - val_accuracy: 0.6499\n",
      "Epoch 2/50\n",
      "255/255 [==============================] - 245s 962ms/step - loss: 0.5855 - accuracy: 0.6863 - val_loss: 0.6433 - val_accuracy: 0.6455\n",
      "Epoch 3/50\n",
      "255/255 [==============================] - 247s 968ms/step - loss: 0.5803 - accuracy: 0.6908 - val_loss: 0.6632 - val_accuracy: 0.6238\n",
      "Epoch 4/50\n",
      "255/255 [==============================] - 248s 973ms/step - loss: 0.5796 - accuracy: 0.6917 - val_loss: 0.6453 - val_accuracy: 0.6371\n",
      "Epoch 5/50\n",
      "255/255 [==============================] - 246s 965ms/step - loss: 0.5779 - accuracy: 0.6902 - val_loss: 0.6430 - val_accuracy: 0.6440\n",
      "Epoch 6/50\n",
      "255/255 [==============================] - 245s 963ms/step - loss: 0.5769 - accuracy: 0.6906 - val_loss: 0.6406 - val_accuracy: 0.6411\n",
      "Epoch 7/50\n",
      "255/255 [==============================] - 246s 964ms/step - loss: 0.5686 - accuracy: 0.6973 - val_loss: 0.6572 - val_accuracy: 0.6401\n",
      "Epoch 8/50\n",
      "255/255 [==============================] - 246s 964ms/step - loss: 0.5716 - accuracy: 0.6927 - val_loss: 0.6524 - val_accuracy: 0.6425\n",
      "Epoch 9/50\n",
      "255/255 [==============================] - 258s 1s/step - loss: 0.5686 - accuracy: 0.6992 - val_loss: 0.6668 - val_accuracy: 0.6204\n",
      "Epoch 10/50\n",
      "255/255 [==============================] - 302s 1s/step - loss: 0.5697 - accuracy: 0.6959 - val_loss: 0.6417 - val_accuracy: 0.6455\n",
      "Epoch 11/50\n",
      "255/255 [==============================] - 267s 1s/step - loss: 0.5662 - accuracy: 0.6996 - val_loss: 0.6416 - val_accuracy: 0.6534\n",
      "Epoch 12/50\n",
      "255/255 [==============================] - 261s 1s/step - loss: 0.5547 - accuracy: 0.7068 - val_loss: 0.6488 - val_accuracy: 0.6406\n",
      "Epoch 13/50\n",
      "255/255 [==============================] - 243s 953ms/step - loss: 0.5595 - accuracy: 0.7085 - val_loss: 0.6375 - val_accuracy: 0.6568\n",
      "Epoch 14/50\n",
      "255/255 [==============================] - 265s 1s/step - loss: 0.5533 - accuracy: 0.7148 - val_loss: 0.6577 - val_accuracy: 0.6460\n",
      "Epoch 15/50\n",
      "255/255 [==============================] - 288s 1s/step - loss: 0.5502 - accuracy: 0.7131 - val_loss: 0.6568 - val_accuracy: 0.6450\n",
      "Epoch 16/50\n",
      "255/255 [==============================] - 298s 1s/step - loss: 0.5525 - accuracy: 0.7143 - val_loss: 0.6602 - val_accuracy: 0.6617\n",
      "Epoch 17/50\n",
      "255/255 [==============================] - 263s 1s/step - loss: 0.5528 - accuracy: 0.7126 - val_loss: 0.6542 - val_accuracy: 0.6539\n",
      "Epoch 18/50\n",
      "255/255 [==============================] - 298s 1s/step - loss: 0.5430 - accuracy: 0.7191 - val_loss: 0.6588 - val_accuracy: 0.6544\n",
      "Epoch 19/50\n",
      "255/255 [==============================] - 264s 1s/step - loss: 0.5439 - accuracy: 0.7190 - val_loss: 0.6722 - val_accuracy: 0.6475\n",
      "Epoch 20/50\n",
      "255/255 [==============================] - 263s 1s/step - loss: 0.5420 - accuracy: 0.7169 - val_loss: 0.6694 - val_accuracy: 0.6558\n",
      "Epoch 21/50\n",
      "255/255 [==============================] - 249s 978ms/step - loss: 0.5364 - accuracy: 0.7239 - val_loss: 0.6541 - val_accuracy: 0.6617\n",
      "Epoch 22/50\n",
      "255/255 [==============================] - 266s 1s/step - loss: 0.5330 - accuracy: 0.7288 - val_loss: 0.6626 - val_accuracy: 0.6603\n",
      "Epoch 23/50\n",
      "255/255 [==============================] - 271s 1s/step - loss: 0.5297 - accuracy: 0.7272 - val_loss: 0.6443 - val_accuracy: 0.6608\n",
      "Epoch 24/50\n",
      "255/255 [==============================] - 275s 1s/step - loss: 0.5292 - accuracy: 0.7322 - val_loss: 0.6710 - val_accuracy: 0.6499\n",
      "Epoch 25/50\n",
      "255/255 [==============================] - 259s 1s/step - loss: 0.5266 - accuracy: 0.7303 - val_loss: 0.6932 - val_accuracy: 0.6420\n",
      "Epoch 26/50\n",
      "255/255 [==============================] - 269s 1s/step - loss: 0.5324 - accuracy: 0.7278 - val_loss: 0.6612 - val_accuracy: 0.6519\n",
      "Epoch 27/50\n",
      "255/255 [==============================] - 261s 1s/step - loss: 0.5306 - accuracy: 0.7260 - val_loss: 0.6574 - val_accuracy: 0.6568\n",
      "Epoch 28/50\n",
      "255/255 [==============================] - 259s 1s/step - loss: 0.5187 - accuracy: 0.7324 - val_loss: 0.6751 - val_accuracy: 0.6553\n",
      "Epoch 29/50\n",
      "255/255 [==============================] - 349s 1s/step - loss: 0.5252 - accuracy: 0.7343 - val_loss: 0.6939 - val_accuracy: 0.6548\n",
      "Epoch 30/50\n",
      "255/255 [==============================] - 261s 1s/step - loss: 0.5255 - accuracy: 0.7290 - val_loss: 0.6874 - val_accuracy: 0.6484\n",
      "Epoch 31/50\n",
      "255/255 [==============================] - 254s 997ms/step - loss: 0.5101 - accuracy: 0.7433 - val_loss: 0.6720 - val_accuracy: 0.6509\n",
      "Epoch 32/50\n",
      "255/255 [==============================] - 283s 1s/step - loss: 0.5191 - accuracy: 0.7375 - val_loss: 0.6695 - val_accuracy: 0.6465\n",
      "Epoch 33/50\n",
      "255/255 [==============================] - 282s 1s/step - loss: 0.5178 - accuracy: 0.7362 - val_loss: 0.6769 - val_accuracy: 0.6411\n",
      "Epoch 34/50\n",
      "255/255 [==============================] - 272s 1s/step - loss: 0.5139 - accuracy: 0.7394 - val_loss: 0.6650 - val_accuracy: 0.6475\n",
      "Epoch 35/50\n",
      "255/255 [==============================] - 284s 1s/step - loss: 0.5138 - accuracy: 0.7447 - val_loss: 0.7018 - val_accuracy: 0.6425\n",
      "Epoch 36/50\n",
      "255/255 [==============================] - 266s 1s/step - loss: 0.5103 - accuracy: 0.7380 - val_loss: 0.6850 - val_accuracy: 0.6696\n",
      "Epoch 37/50\n",
      "255/255 [==============================] - 260s 1s/step - loss: 0.5068 - accuracy: 0.7406 - val_loss: 0.6733 - val_accuracy: 0.6627\n",
      "Epoch 38/50\n",
      "255/255 [==============================] - 259s 1s/step - loss: 0.5086 - accuracy: 0.7453 - val_loss: 0.6851 - val_accuracy: 0.6588\n",
      "Epoch 39/50\n",
      "255/255 [==============================] - 256s 1s/step - loss: 0.4988 - accuracy: 0.7454 - val_loss: 0.6820 - val_accuracy: 0.6667\n",
      "Epoch 40/50\n",
      "255/255 [==============================] - 240s 942ms/step - loss: 0.5087 - accuracy: 0.7447 - val_loss: 0.6963 - val_accuracy: 0.6504\n",
      "Epoch 41/50\n",
      "255/255 [==============================] - 240s 943ms/step - loss: 0.4975 - accuracy: 0.7499 - val_loss: 0.7221 - val_accuracy: 0.6352\n",
      "Epoch 42/50\n",
      "255/255 [==============================] - 240s 940ms/step - loss: 0.5040 - accuracy: 0.7485 - val_loss: 0.6803 - val_accuracy: 0.6578\n",
      "Epoch 43/50\n",
      "255/255 [==============================] - 240s 943ms/step - loss: 0.4953 - accuracy: 0.7498 - val_loss: 0.7004 - val_accuracy: 0.6548\n",
      "Epoch 44/50\n",
      "255/255 [==============================] - 242s 949ms/step - loss: 0.4961 - accuracy: 0.7555 - val_loss: 0.6952 - val_accuracy: 0.6514\n",
      "Epoch 45/50\n",
      "255/255 [==============================] - 244s 958ms/step - loss: 0.4971 - accuracy: 0.7480 - val_loss: 0.7043 - val_accuracy: 0.6514\n",
      "Epoch 46/50\n",
      "255/255 [==============================] - 241s 945ms/step - loss: 0.4930 - accuracy: 0.7514 - val_loss: 0.7074 - val_accuracy: 0.6465\n",
      "Epoch 47/50\n",
      "255/255 [==============================] - 277s 1s/step - loss: 0.4934 - accuracy: 0.7545 - val_loss: 0.7042 - val_accuracy: 0.6588\n",
      "Epoch 48/50\n",
      "255/255 [==============================] - 258s 1s/step - loss: 0.4986 - accuracy: 0.7448 - val_loss: 0.6878 - val_accuracy: 0.6411\n",
      "Epoch 49/50\n",
      "255/255 [==============================] - 266s 1s/step - loss: 0.4929 - accuracy: 0.7534 - val_loss: 0.7371 - val_accuracy: 0.6406\n",
      "Epoch 50/50\n",
      "255/255 [==============================] - 285s 1s/step - loss: 0.4849 - accuracy: 0.7580 - val_loss: 0.6969 - val_accuracy: 0.6573\n"
     ]
    }
   ],
   "source": [
    "# Train the model\n",
    "history = model.fit(\n",
    "    train_generator,\n",
    "    epochs=20,\n",
    "    validation_data=test_generator\n",
    ")"
   ]
  },
  {
   "cell_type": "code",
   "execution_count": 29,
   "id": "09950ee4-616e-4e13-a854-c93c7e9648b0",
   "metadata": {},
   "outputs": [
    {
     "name": "stdout",
     "output_type": "stream",
     "text": [
      "64/64 [==============================] - 35s 541ms/step - loss: 0.6969 - accuracy: 0.6573\n",
      "Test accuracy: 65.73%\n"
     ]
    }
   ],
   "source": [
    "# Evaluate the model on the test set\n",
    "test_loss, test_accuracy = model.evaluate(test_generator)\n",
    "print(f\"Test accuracy: {test_accuracy * 100:.2f}%\")"
   ]
  },
  {
   "cell_type": "code",
   "execution_count": 27,
   "id": "b2dc1a8f-16f7-41de-9b8b-9434211bcf45",
   "metadata": {},
   "outputs": [
    {
     "name": "stderr",
     "output_type": "stream",
     "text": [
      "F:\\anaconda\\Lib\\site-packages\\keras\\src\\engine\\training.py:3103: UserWarning: You are saving your model as an HDF5 file via `model.save()`. This file format is considered legacy. We recommend using instead the native Keras format, e.g. `model.save('my_model.keras')`.\n",
      "  saving_api.save_model(\n"
     ]
    }
   ],
   "source": [
    "# Save the model\n",
    "model.save('fear_detection_mobilenetv3.h5')"
   ]
  }
 ],
 "metadata": {
  "kernelspec": {
   "display_name": "Python 3 (ipykernel)",
   "language": "python",
   "name": "python3"
  },
  "language_info": {
   "codemirror_mode": {
    "name": "ipython",
    "version": 3
   },
   "file_extension": ".py",
   "mimetype": "text/x-python",
   "name": "python",
   "nbconvert_exporter": "python",
   "pygments_lexer": "ipython3",
   "version": "3.11.5"
  }
 },
 "nbformat": 4,
 "nbformat_minor": 5
}
