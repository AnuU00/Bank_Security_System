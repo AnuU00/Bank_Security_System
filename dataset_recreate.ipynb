{
 "cells": [
  {
   "cell_type": "code",
   "execution_count": 1,
   "id": "ebddc703-24e3-4613-abcc-39923b8c2fb7",
   "metadata": {},
   "outputs": [],
   "source": [
    "import os\n",
    "import shutil\n",
    "import random"
   ]
  },
  {
   "cell_type": "code",
   "execution_count": 5,
   "id": "e38103e2-840f-47b3-8326-d4ab394f2992",
   "metadata": {},
   "outputs": [],
   "source": [
    "# Define the paths to the original and new datasets\n",
    "original_dataset_path = r'F:\\3rd_yr_project\\DATAsets\\FER_2013'\n",
    "new_dataset_path = r'F:\\3rd_yr_project\\FER_transfer_learning\\FER_fear_dataset'"
   ]
  },
  {
   "cell_type": "code",
   "execution_count": 6,
   "id": "fa6c0446-b4c1-4a98-9f0a-f077c2a3e5f0",
   "metadata": {},
   "outputs": [],
   "source": [
    "# Create the new directory structure\n",
    "new_train_path = os.path.join(new_dataset_path, 'train')\n",
    "new_test_path = os.path.join(new_dataset_path, 'test')\n",
    "os.makedirs(os.path.join(new_train_path, '1'), exist_ok=True)\n",
    "os.makedirs(os.path.join(new_train_path, '0'), exist_ok=True)\n",
    "os.makedirs(os.path.join(new_test_path, '1'), exist_ok=True)\n",
    "os.makedirs(os.path.join(new_test_path, '0'), exist_ok=True)"
   ]
  },
  {
   "cell_type": "code",
   "execution_count": 12,
   "id": "e27e88fe-d64f-498b-b4b6-0b287dd1365b",
   "metadata": {},
   "outputs": [],
   "source": [
    "# Helper function to copy images\n",
    "def copy_images(src_folder, dest_folder, emotion, sample_count=None):\n",
    "    files = os.listdir(src_folder)\n",
    "    if sample_count and sample_count < len(files):\n",
    "        files = random.sample(files, sample_count)\n",
    "    for filename in files:\n",
    "        src_file = os.path.join(src_folder, filename)\n",
    "        if emotion == 'fear':\n",
    "            shutil.copy(src_file, os.path.join(dest_folder, '1', filename))\n",
    "        else:\n",
    "            shutil.copy(src_file, os.path.join(dest_folder, '0', filename))"
   ]
  },
  {
   "cell_type": "code",
   "execution_count": 13,
   "id": "83cdab15-e3a7-496d-b782-34dec8ea159f",
   "metadata": {},
   "outputs": [],
   "source": [
    "# Copy Training Images\n",
    "train_path = os.path.join(original_dataset_path, 'train')\n",
    "fear_train_path = os.path.join(train_path, 'fear')\n",
    "fear_count = len(os.listdir(fear_train_path))\n",
    "copy_images(fear_train_path, new_train_path, 'fear')\n"
   ]
  },
  {
   "cell_type": "code",
   "execution_count": 11,
   "id": "810b7ae3-3920-42ea-9b15-c69633185747",
   "metadata": {},
   "outputs": [
    {
     "name": "stdout",
     "output_type": "stream",
     "text": [
      "682\n"
     ]
    }
   ],
   "source": [
    "# Calculate Number of Images to Sample from Each Non-Fear Folder\n",
    "non_fear_emotions = [emotion for emotion in os.listdir(train_path) if emotion != 'fear']\n",
    "sample_count = fear_count // len(non_fear_emotions)\n",
    "print(sample_count)\n"
   ]
  },
  {
   "cell_type": "code",
   "execution_count": 14,
   "id": "30487cea-7df5-4ca7-846c-1c685444a11b",
   "metadata": {},
   "outputs": [],
   "source": [
    "# Copy Images from Non-Fear Folders to New Non-Fear Folder\n",
    "for emotion in non_fear_emotions:\n",
    "    emotion_path = os.path.join(train_path, emotion)\n",
    "    actual_sample_count = min(sample_count, len(os.listdir(emotion_path)))\n",
    "    copy_images(emotion_path, new_train_path, '0', actual_sample_count)\n"
   ]
  },
  {
   "cell_type": "code",
   "execution_count": 15,
   "id": "bef0e1d4-381c-4345-b3e0-2cd3c9dfe580",
   "metadata": {},
   "outputs": [],
   "source": [
    "# Copy testing images\n",
    "test_path = os.path.join(original_dataset_path, 'test')\n",
    "fear_test_path = os.path.join(test_path, 'fear')\n",
    "fear_count = len(os.listdir(fear_test_path))\n",
    "copy_images(fear_test_path, new_test_path, 'fear')"
   ]
  },
  {
   "cell_type": "code",
   "execution_count": 17,
   "id": "ce8abae4-fd21-43dd-9c58-c3e4fd2257d9",
   "metadata": {},
   "outputs": [
    {
     "name": "stdout",
     "output_type": "stream",
     "text": [
      "170\n"
     ]
    }
   ],
   "source": [
    "non_fear_emotions = [emotion for emotion in os.listdir(test_path) if emotion != 'fear']\n",
    "sample_count = fear_count // len(non_fear_emotions)\n",
    "print(sample_count)\n"
   ]
  },
  {
   "cell_type": "code",
   "execution_count": 18,
   "id": "f4255347-7462-4d73-b4ab-e129f050dfd3",
   "metadata": {},
   "outputs": [],
   "source": [
    "for emotion in non_fear_emotions:\n",
    "    emotion_path = os.path.join(test_path, emotion)\n",
    "    actual_sample_count = min(sample_count, len(os.listdir(emotion_path)))\n",
    "    copy_images(emotion_path, new_test_path, '0', actual_sample_count)"
   ]
  },
  {
   "cell_type": "code",
   "execution_count": null,
   "id": "05967aad-e725-483b-b558-0c9def2a032f",
   "metadata": {},
   "outputs": [],
   "source": []
  }
 ],
 "metadata": {
  "kernelspec": {
   "display_name": "Python 3 (ipykernel)",
   "language": "python",
   "name": "python3"
  },
  "language_info": {
   "codemirror_mode": {
    "name": "ipython",
    "version": 3
   },
   "file_extension": ".py",
   "mimetype": "text/x-python",
   "name": "python",
   "nbconvert_exporter": "python",
   "pygments_lexer": "ipython3",
   "version": "3.11.5"
  }
 },
 "nbformat": 4,
 "nbformat_minor": 5
}
